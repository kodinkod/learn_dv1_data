{
 "cells": [
  {
   "attachments": {},
   "cell_type": "markdown",
   "id": "31c33bbf",
   "metadata": {},
   "source": [
    "ФИО:<ins>Кодин Денис Владимирович</ins>     группа: <ins>2</ins>"
   ]
  },
  {
   "cell_type": "markdown",
   "id": "ddfed3fb",
   "metadata": {},
   "source": [
    "## Работа с массивами в библиотеке NumPy"
   ]
  },
  {
   "cell_type": "code",
   "execution_count": 1,
   "id": "033460c7",
   "metadata": {},
   "outputs": [],
   "source": [
    "import numpy as np"
   ]
  },
  {
   "cell_type": "markdown",
   "id": "fbd32fb4",
   "metadata": {},
   "source": [
    " <b>Задание 1.</b> Задать матрицу $A_{4\\times 4}$ случайных чисел любого типа."
   ]
  },
  {
   "cell_type": "code",
   "execution_count": 78,
   "id": "1e0ca0ef",
   "metadata": {},
   "outputs": [
    {
     "data": {
      "text/plain": [
       "array([[-13.,  -1.,   5.,  -2.],\n",
       "       [ -1.,  -9.,  -4.,   7.],\n",
       "       [-21.,  -2.,  -6.,  -1.],\n",
       "       [ 17.,  -5.,  14.,  11.]])"
      ]
     },
     "execution_count": 78,
     "metadata": {},
     "output_type": "execute_result"
    }
   ],
   "source": [
    "a = np.random.randn(4,4) * 10 /10 #np.random.sample\n",
    "a = a * 100 // 10 \n",
    "a"
   ]
  },
  {
   "cell_type": "markdown",
   "id": "f4841c49",
   "metadata": {},
   "source": [
    " <b>Задание 2.</b> Случайным образом сгенерировать два целых числа $k$, $l$. Найти минор $M_{k,l}$. \n",
    " \n",
    " <ins>Указание:</ins> _Минором $M_{k,l} $ матрицы_ называется определитель матрицы, полученной путём вычеркивания $k$-столбца и $l$-строки\n",
    " \n"
   ]
  },
  {
   "cell_type": "code",
   "execution_count": 52,
   "id": "3a7dffcd",
   "metadata": {},
   "outputs": [],
   "source": [
    "np.random.seed(43)"
   ]
  },
  {
   "cell_type": "code",
   "execution_count": 97,
   "id": "edeb2eb8",
   "metadata": {},
   "outputs": [
    {
     "name": "stdout",
     "output_type": "stream",
     "text": [
      "j: 0, k: 0\n",
      "minor_matrix: \n",
      "[[-9. -4.  7.]\n",
      " [-2. -6. -1.]\n",
      " [-5. 14. 11.]]\n",
      "Answer: -46.0\n"
     ]
    }
   ],
   "source": [
    "k = np.random.randint(0,3)\n",
    "j = np.random.randint(0,3)\n",
    "print('j: {}, k: {}'.format(j, k))\n",
    "\n",
    "minor_matrix = np.delete(a, j, 0)\n",
    "minor_matrix = np.delete(minor_matrix, k, 1)\n",
    "\n",
    "print('minor_matrix: ')\n",
    "print(minor_matrix)\n",
    "minor = ((-1)**(k+j)) * np.linalg.det(minor_matrix)\n",
    "\n",
    "print('Answer:', minor)"
   ]
  },
  {
   "cell_type": "code",
   "execution_count": 120,
   "id": "69e68ed4",
   "metadata": {},
   "outputs": [],
   "source": [
    "def solve_minor(a, j, k):\n",
    "    minor_matrix = np.delete(a, j, 0)\n",
    "    minor_matrix = np.delete(minor_matrix, k, 1)\n",
    "\n",
    "    return ((-1)**(k+j)) * np.linalg.det(minor_matrix)\n"
   ]
  },
  {
   "cell_type": "markdown",
   "id": "26677a43",
   "metadata": {},
   "source": [
    "<b>Задание 3.</b> Используя код задания 2, вычислить определитель исходной матрицы $A$ путём разложения её по произвольным строке или столбцу. "
   ]
  },
  {
   "cell_type": "code",
   "execution_count": 129,
   "id": "67e77b25",
   "metadata": {},
   "outputs": [
    {
     "name": "stdout",
     "output_type": "stream",
     "text": [
      "my det: -10632.0, numpy_dets: -10631.999999999996\n"
     ]
    }
   ],
   "source": [
    "row = 0 # по произвольной строке\n",
    "deter = 0\n",
    "\n",
    "for i in range(a.shape[1]):\n",
    "    deter += a[row, i] * solve_minor(a, row, i)\n",
    "\n",
    "print('my det: {}, numpy_dets: {}'.format(deter, np.linalg.det(a)))"
   ]
  },
  {
   "cell_type": "markdown",
   "id": "47a2df4c",
   "metadata": {},
   "source": [
    "<b>Задание 4.</b> Задать массив целых чисел $x$ случайной размерности $d > 2$. Случайным образом определить целое число $n$. Определить сколько и какие элементы в массиве $x$ имеют ту же четность и тот же знак, что и заданное число $n$. "
   ]
  },
  {
   "cell_type": "code",
   "execution_count": 180,
   "id": "f1d9a9e7",
   "metadata": {},
   "outputs": [
    {
     "name": "stdout",
     "output_type": "stream",
     "text": [
      "dim: 4\n",
      "random n: 2\n",
      "chet:  0\n",
      "sign:  1\n",
      "our matrix:\n",
      "[[ -4  -7  -1  -4]\n",
      " [ -4  -3  -8  -3]\n",
      " [-10   3   1  -7]\n",
      " [ -4   4  -2   9]]\n",
      "\n",
      "--------------------RESULT--------------------\n",
      "\n",
      "good element:  [4]\n",
      "count good element:  1\n"
     ]
    }
   ],
   "source": [
    "d = np.random.randint(3,10)\n",
    "print('dim:', d)\n",
    "\n",
    "n = np.random.randint(-10,10)\n",
    "print('random n:', n)\n",
    "if n % 2 == 0:\n",
    "    chet = 0\n",
    "else:\n",
    "    chet = 1\n",
    "\n",
    "print(\"chet: \", chet)\n",
    "sgn = np.sign(n)\n",
    "print(\"sign: \", sgn)\n",
    "     \n",
    "\n",
    "a = np.random.randint(low=-10,high=10,size=(d, d))\n",
    "print('our matrix:')\n",
    "print(a)\n",
    "\n",
    "print()\n",
    "print(20*'-' + 'RESULT' + 20*'-')\n",
    "print()\n",
    "\n",
    "filter_true = a[(a % 2 == chet) & (np.sign(a) == sgn)]\n",
    "print('good element: ', filter_true)\n",
    "print('count good element: ', filter_true.shape[0])"
   ]
  },
  {
   "cell_type": "markdown",
   "id": "750e67c7",
   "metadata": {},
   "source": [
    "<b>Задание 5.</b> Задать два массива вещественных чисел $x$ и $y$ случайной размерности $d > 2$.Получить новый массив $z$, содержащий на $i$-месте целую часть $x_i$, если его дробная часть оказалась больше, чем дробная часть $y_i$ и наоборот. "
   ]
  },
  {
   "cell_type": "markdown",
   "id": "7102a528",
   "metadata": {},
   "source": [
    "Пример входных данных и результата работы программы:\n",
    "\n",
    "x = [15.14903699  3.77044949 -7.36159982  8.80036869  6.10691581]\n",
    "\n",
    "y = [ -8.65563977 -12.60192654  15.90580188 -16.63450346  11.83626016]\n",
    "\n",
    "z = [ -8. 3.  15. 8.  11.]\n"
   ]
  },
  {
   "cell_type": "code",
   "execution_count": 209,
   "id": "e2757c1d",
   "metadata": {},
   "outputs": [
    {
     "name": "stdout",
     "output_type": "stream",
     "text": [
      "dim: 3\n",
      "x: [  4.45201583  -9.26328693 -12.33366339]\n",
      "y: [-4.62070032  8.71018533  2.57070557]\n",
      "[-4.0, 8.0, 2.0]\n"
     ]
    }
   ],
   "source": [
    "d = np.random.randint(3,6)\n",
    "print('dim:', d)\n",
    "x = np.random.randn(d)*10\n",
    "y = np.random.randn(d)*10\n",
    "\n",
    "# test \n",
    "#x = np.array([15.14903699,  3.77044949, -7.36159982,  8.80036869,  6.10691581])\n",
    "#y = np.array([ -8.65563977, -12.60192654,  15.90580188, -16.63450346,  11.83626016])\n",
    "\n",
    "print('x:', x)\n",
    "print('y:', y)\n",
    "\n",
    "rx, dx = np.modf(x)\n",
    "ry, dy = np.modf(y)\n",
    "\n",
    "z = [ dx[i] if abs(rx[i]) > abs(ry[i]) else dy[i] for i in range(d)]\n",
    "print(z)"
   ]
  },
  {
   "cell_type": "markdown",
   "id": "561b8731",
   "metadata": {},
   "source": [
    "<b>Задание 6.</b> Задать массив натуральных чисел $x$ случайной размерности $d > 2$. Получить массив $y$, содержащий только те элементы из $x$, которые являются степенями двойки."
   ]
  },
  {
   "cell_type": "code",
   "execution_count": 282,
   "id": "d3069964",
   "metadata": {},
   "outputs": [
    {
     "name": "stdout",
     "output_type": "stream",
     "text": [
      "dim: 20\n",
      "x: [2 1 6 3 3 5 1 1 2 7 7 9 9 2 3 4 8 5 4 5]\n",
      "y: [2 1 1 1 2 2 4 8 4]\n"
     ]
    }
   ],
   "source": [
    "d = np.random.randint(3, 100)\n",
    "print('dim:', d)\n",
    "x = np.random.randint(low=0,high=10,size=(d))\n",
    "print('x:', x)\n",
    "\n",
    "y = x[((x & (x-1) == 0) & (x != 0))]\n",
    "print('y:', y)\n",
    "\n"
   ]
  }
 ],
 "metadata": {
  "kernelspec": {
   "display_name": "Python 3",
   "language": "python",
   "name": "python3"
  },
  "language_info": {
   "codemirror_mode": {
    "name": "ipython",
    "version": 3
   },
   "file_extension": ".py",
   "mimetype": "text/x-python",
   "name": "python",
   "nbconvert_exporter": "python",
   "pygments_lexer": "ipython3",
   "version": "3.11.1"
  },
  "vscode": {
   "interpreter": {
    "hash": "9ff9b9dbd94e86b41bafd632486b0534561a2d23249e7aebc1956c7a3999e5ce"
   }
  }
 },
 "nbformat": 4,
 "nbformat_minor": 5
}

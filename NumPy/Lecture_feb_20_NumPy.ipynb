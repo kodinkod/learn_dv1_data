{
 "cells": [
  {
   "cell_type": "markdown",
   "id": "11d9ac1e",
   "metadata": {},
   "source": [
    "## Работа с массивами данных. Библиотека NumPy"
   ]
  },
  {
   "cell_type": "code",
   "execution_count": 1,
   "id": "1d102f8c",
   "metadata": {},
   "outputs": [],
   "source": [
    "import numpy as np"
   ]
  },
  {
   "cell_type": "markdown",
   "id": "204706f6",
   "metadata": {},
   "source": [
    "## Инициализация массива, неявные преобразования типов данных"
   ]
  },
  {
   "cell_type": "code",
   "execution_count": 2,
   "id": "4d160d62",
   "metadata": {},
   "outputs": [
    {
     "data": {
      "text/plain": [
       "array([ 1. ,  6.5,  5. , 18. ,  5. ])"
      ]
     },
     "execution_count": 2,
     "metadata": {},
     "output_type": "execute_result"
    }
   ],
   "source": [
    "a1 = np.array([1,6.5,5,18,5]) #преобразование списка в массив numpy\n",
    "a1"
   ]
  },
  {
   "cell_type": "code",
   "execution_count": 3,
   "id": "d9f24708",
   "metadata": {},
   "outputs": [
    {
     "name": "stdout",
     "output_type": "stream",
     "text": [
      "(5,)\n",
      "float64\n"
     ]
    }
   ],
   "source": [
    "print(a1.shape) # размер массива (кортеж) \n",
    "print(a1.dtype) # тип подбирается так, чтобы его можно было \"подогнать\" под все значения\n",
    "#если будет среди целых чисел хотя бы одно вещественное => общий тип данных будет float (все значения преобразуются в вещественные)\n",
    "#если среди чисел будет хотя бы одна строка => все элементы преобразуются в строки, общий тип данных будет строковый\n"
   ]
  },
  {
   "cell_type": "code",
   "execution_count": 4,
   "id": "f5ff8a8d",
   "metadata": {},
   "outputs": [
    {
     "data": {
      "text/plain": [
       "array(['1', '2', '-5', 'hello'], dtype='<U21')"
      ]
     },
     "execution_count": 4,
     "metadata": {},
     "output_type": "execute_result"
    }
   ],
   "source": [
    "np.array([1, 2, -5, 'hello']) # все элементы стали строками"
   ]
  },
  {
   "cell_type": "code",
   "execution_count": 5,
   "id": "e29433ff",
   "metadata": {},
   "outputs": [
    {
     "name": "stderr",
     "output_type": "stream",
     "text": [
      "/var/folders/mq/5bjmrs611zx_lw08z1c5dmpc0000gn/T/ipykernel_95969/1706739635.py:2: RuntimeWarning: invalid value encountered in cast\n",
      "  a2.astype(np.uint64)\n"
     ]
    },
    {
     "data": {
      "text/plain": [
       "array([1, 0, 3], dtype=uint64)"
      ]
     },
     "execution_count": 5,
     "metadata": {},
     "output_type": "execute_result"
    }
   ],
   "source": [
    "a2 = np.array([1, -2.59, 3]) # преобразование массива из вещественного типа в целый беззнаковый\n",
    "a2.astype(np.uint64)\n",
    "#!!! если число было отрицательным, то оно заменится на максимальное целое - модуль исходного отрицательного числа"
   ]
  },
  {
   "cell_type": "code",
   "execution_count": 6,
   "id": "f60042d5",
   "metadata": {},
   "outputs": [
    {
     "data": {
      "text/plain": [
       "18446744073709551614"
      ]
     },
     "execution_count": 6,
     "metadata": {},
     "output_type": "execute_result"
    }
   ],
   "source": [
    "2**64 - 2 # для uint64 максимальное число 2**64 => -2 = 2**64 - 2"
   ]
  },
  {
   "cell_type": "markdown",
   "id": "f02d6918",
   "metadata": {},
   "source": [
    "## Случайное распределение, близкое к нормальному"
   ]
  },
  {
   "cell_type": "code",
   "execution_count": 7,
   "id": "8553a728",
   "metadata": {},
   "outputs": [
    {
     "data": {
      "text/plain": [
       "array([ 0.56453448, -0.39071604, -1.2251488 ,  0.40085724, -0.46688178])"
      ]
     },
     "execution_count": 7,
     "metadata": {},
     "output_type": "execute_result"
    }
   ],
   "source": [
    "a3 = np.random.randn(5) #нормальное распределение с матожиданием, близким к 0\n",
    "a3"
   ]
  },
  {
   "cell_type": "code",
   "execution_count": 8,
   "id": "b0032011",
   "metadata": {},
   "outputs": [
    {
     "data": {
      "text/plain": [
       "-0.2234709780696884"
      ]
     },
     "execution_count": 8,
     "metadata": {},
     "output_type": "execute_result"
    }
   ],
   "source": [
    "np.mean(a3) # мат ожидание"
   ]
  },
  {
   "cell_type": "code",
   "execution_count": 9,
   "id": "94f94603",
   "metadata": {},
   "outputs": [
    {
     "data": {
      "text/plain": [
       "0.4202633026096086"
      ]
     },
     "execution_count": 9,
     "metadata": {},
     "output_type": "execute_result"
    }
   ],
   "source": [
    "np.var(a3) # отклонение"
   ]
  },
  {
   "cell_type": "markdown",
   "id": "22ab4f47",
   "metadata": {},
   "source": [
    "## Матрицы"
   ]
  },
  {
   "cell_type": "code",
   "execution_count": 10,
   "id": "d8d260bc",
   "metadata": {},
   "outputs": [
    {
     "data": {
      "text/plain": [
       "array([[  1,  24,   5],\n",
       "       [  0, -19,   5],\n",
       "       [ -1,   9,   0]])"
      ]
     },
     "execution_count": 10,
     "metadata": {},
     "output_type": "execute_result"
    }
   ],
   "source": [
    "arr2d = np.array([[1,24,5], [0, -19, 5], [-1, 9, 0]]) # инициализация матрицы из двумерного списка\n",
    "arr2d"
   ]
  },
  {
   "cell_type": "code",
   "execution_count": 11,
   "id": "90ab23f0",
   "metadata": {},
   "outputs": [
    {
     "name": "stdout",
     "output_type": "stream",
     "text": [
      "24\n",
      "24\n"
     ]
    },
    {
     "data": {
      "text/plain": [
       "array([[  1,  24,   5],\n",
       "       [  1,   5,   5],\n",
       "       [-10, -10,   0]])"
      ]
     },
     "execution_count": 11,
     "metadata": {},
     "output_type": "execute_result"
    }
   ],
   "source": [
    "# разные способы обратиться к элементу по индексу\n",
    "print(arr2d[0][1])\n",
    "print(arr2d[0,1])\n",
    "\n",
    "arr2d[1:, :2] = [[1, 5],[-10, -10]] # работают двумерные срезы\n",
    "#!!! Важно! Срез из четырех элементов (2х2) можно заменить на: \n",
    "#один элемент (повторится 4 раза), список из двух элементов (повторится дважды) или другой список 2х2\n",
    "arr2d"
   ]
  },
  {
   "cell_type": "code",
   "execution_count": 12,
   "id": "621c33d8",
   "metadata": {},
   "outputs": [
    {
     "data": {
      "text/plain": [
       "array([[ 1, 24,  5],\n",
       "       [ 1,  9,  5],\n",
       "       [ 1,  9,  0]])"
      ]
     },
     "execution_count": 12,
     "metadata": {},
     "output_type": "execute_result"
    }
   ],
   "source": [
    "arr2d[1:, :2] = [1,9] # при попытке заменить на не \"тиражируемое\" под исходный размер среза возникнет ошибка\n",
    "arr2d"
   ]
  },
  {
   "cell_type": "code",
   "execution_count": 13,
   "id": "a46470a9",
   "metadata": {},
   "outputs": [
    {
     "ename": "ValueError",
     "evalue": "could not broadcast input array from shape (4,) into shape (2,2)",
     "output_type": "error",
     "traceback": [
      "\u001b[0;31m---------------------------------------------------------------------------\u001b[0m",
      "\u001b[0;31mValueError\u001b[0m                                Traceback (most recent call last)",
      "Cell \u001b[0;32mIn[13], line 1\u001b[0m\n\u001b[0;32m----> 1\u001b[0m \u001b[43marr2d\u001b[49m\u001b[43m[\u001b[49m\u001b[38;5;241;43m1\u001b[39;49m\u001b[43m:\u001b[49m\u001b[43m,\u001b[49m\u001b[43m \u001b[49m\u001b[43m:\u001b[49m\u001b[38;5;241;43m2\u001b[39;49m\u001b[43m]\u001b[49m \u001b[38;5;241m=\u001b[39m [\u001b[38;5;241m1\u001b[39m,\u001b[38;5;241m9\u001b[39m, \u001b[38;5;241m6\u001b[39m, \u001b[38;5;241m7\u001b[39m]\n",
      "\u001b[0;31mValueError\u001b[0m: could not broadcast input array from shape (4,) into shape (2,2)"
     ]
    }
   ],
   "source": [
    "arr2d[1:, :2] = [1,9, 6, 7]"
   ]
  },
  {
   "cell_type": "markdown",
   "id": "b26cacc6",
   "metadata": {},
   "source": [
    "# Случайные массивы"
   ]
  },
  {
   "cell_type": "code",
   "execution_count": 14,
   "id": "27395111",
   "metadata": {},
   "outputs": [
    {
     "data": {
      "text/plain": [
       "array([0.93313595, 0.22206799, 0.38811629, 0.52845587, 0.50708527])"
      ]
     },
     "execution_count": 14,
     "metadata": {},
     "output_type": "execute_result"
    }
   ],
   "source": [
    "a4 = np.random.random(5)\n",
    "a4"
   ]
  },
  {
   "cell_type": "code",
   "execution_count": 15,
   "id": "064b61fd",
   "metadata": {},
   "outputs": [
    {
     "data": {
      "text/plain": [
       "array([0.93313595, 0.22206799, 0.38811629, 0.52845587, 0.50708527])"
      ]
     },
     "execution_count": 15,
     "metadata": {},
     "output_type": "execute_result"
    }
   ],
   "source": [
    "a5 = np.empty(5) #заполняется \"псевдо-случайно\", берет то, что есть в памяти\n",
    "#Плюсы: не тратится время на присваивание какому-то значению всех элементов (как в zeros, ones и т.п)\n",
    "#Минусы: необходимость заполнять массив отдельно\n",
    "a5"
   ]
  },
  {
   "cell_type": "code",
   "execution_count": 16,
   "id": "33788db8",
   "metadata": {},
   "outputs": [
    {
     "data": {
      "text/plain": [
       "array([0.93313595, 0.22206799, 0.38811629, 0.52845587, 0.50708527])"
      ]
     },
     "execution_count": 16,
     "metadata": {},
     "output_type": "execute_result"
    }
   ],
   "source": [
    "a6 = a5.copy() # также, как и в list: простое присваивание копирует ссылку, а не значения\n",
    "a6[0] = -400\n",
    "a5"
   ]
  },
  {
   "cell_type": "code",
   "execution_count": 17,
   "id": "a5dac99d",
   "metadata": {},
   "outputs": [
    {
     "data": {
      "text/plain": [
       "array([-4.00000000e+02,  2.22067988e-01,  3.88116289e-01,  5.28455870e-01,\n",
       "        5.07085268e-01])"
      ]
     },
     "execution_count": 17,
     "metadata": {},
     "output_type": "execute_result"
    }
   ],
   "source": [
    "a5[-1] = 200\n",
    "a6"
   ]
  },
  {
   "cell_type": "code",
   "execution_count": 18,
   "id": "ac22a951",
   "metadata": {},
   "outputs": [
    {
     "data": {
      "text/plain": [
       "array([-0.90929743, -0.54402111,  0.65028784,  0.76255845, -0.95375265])"
      ]
     },
     "execution_count": 18,
     "metadata": {},
     "output_type": "execute_result"
    }
   ],
   "source": [
    "a5 = np.array([-2, 10, 15, 26, 49])\n",
    "np.sin(a5) # математические функции из библитеки numpy могут быть применены целиком к массиву"
   ]
  },
  {
   "cell_type": "markdown",
   "id": "894404a0",
   "metadata": {},
   "source": [
    "## Выборка данных "
   ]
  },
  {
   "cell_type": "code",
   "execution_count": 19,
   "id": "7ecb5440",
   "metadata": {},
   "outputs": [
    {
     "data": {
      "text/plain": [
       "array([ True, False,  True,  True,  True])"
      ]
     },
     "execution_count": 19,
     "metadata": {},
     "output_type": "execute_result"
    }
   ],
   "source": [
    "# можно задавать простую или составную маску, по которой отбираем элементы\n",
    "# результат работы маски - массив, состоящий из True/False той же размерности что и массив a5\n",
    "# and => &\n",
    "# or  => |\n",
    "#!!! Важно! Не забывать брать условия в скобки иначе в отдельных случаях & может быть распознано как побитовое &\n",
    "(a5 >= 15) | (a5 < 0)"
   ]
  },
  {
   "cell_type": "code",
   "execution_count": 20,
   "id": "90b0fc3d",
   "metadata": {},
   "outputs": [
    {
     "data": {
      "text/plain": [
       "array([-2, 15, 26, 49])"
      ]
     },
     "execution_count": 20,
     "metadata": {},
     "output_type": "execute_result"
    }
   ],
   "source": [
    "a5[(a5 >= 15) | (a5 < 0)] # маску"
   ]
  },
  {
   "cell_type": "code",
   "execution_count": 21,
   "id": "c1ee5932",
   "metadata": {},
   "outputs": [
    {
     "name": "stdout",
     "output_type": "stream",
     "text": [
      "[ 0.56453448 -0.39071604 -1.2251488   0.40085724 -0.46688178]\n",
      "[0.93313595 0.22206799 0.38811629 0.52845587 0.50708527]\n"
     ]
    }
   ],
   "source": [
    "print(a3, a4, sep='\\n')"
   ]
  },
  {
   "cell_type": "code",
   "execution_count": 22,
   "id": "6edc57f2",
   "metadata": {},
   "outputs": [
    {
     "data": {
      "text/plain": [
       "array([], dtype=float64)"
      ]
     },
     "execution_count": 22,
     "metadata": {},
     "output_type": "execute_result"
    }
   ],
   "source": [
    "a3[a3 > a4 ] # в маске могут участвовать несколько массивов. тут поэлементное сравнение"
   ]
  },
  {
   "cell_type": "code",
   "execution_count": 23,
   "id": "dd3080fa",
   "metadata": {},
   "outputs": [
    {
     "data": {
      "text/plain": [
       "array([ 0.93313595, -0.39071604, -1.2251488 ,  0.52845587,  0.50708527])"
      ]
     },
     "execution_count": 23,
     "metadata": {},
     "output_type": "execute_result"
    }
   ],
   "source": [
    "# where(condition[, x, y]): \n",
    "#Здесь: condition -- Условие отбора; x - массив, из которого берется значение, если условие True; y -- массив, из которого беретсы значение, если условие False\n",
    "np.where(abs(a3) > abs(a4), a3, a4) # более сложные условия и выборки данных, используя функцию where\n"
   ]
  },
  {
   "cell_type": "code",
   "execution_count": 24,
   "id": "8bd20ebf",
   "metadata": {},
   "outputs": [
    {
     "data": {
      "text/plain": [
       "array([0.93313595, 0.39071604, 1.2251488 , 0.52845587, 0.50708527])"
      ]
     },
     "execution_count": 24,
     "metadata": {},
     "output_type": "execute_result"
    }
   ],
   "source": [
    "np.maximum(abs(a3), abs(a4)) # поэлементное применение функции maximum"
   ]
  },
  {
   "cell_type": "markdown",
   "id": "bc1e9026",
   "metadata": {},
   "source": [
    "## Сортировка данных"
   ]
  },
  {
   "cell_type": "code",
   "execution_count": 25,
   "id": "a189b482",
   "metadata": {},
   "outputs": [
    {
     "data": {
      "text/plain": [
       "array([-1.2251488 , -0.46688178, -0.39071604,  0.40085724,  0.56453448])"
      ]
     },
     "execution_count": 25,
     "metadata": {},
     "output_type": "execute_result"
    }
   ],
   "source": [
    "a3.sort() # сортировка одномерного массива (как и в списках результат сортировки присваивается в a3\n",
    "a3"
   ]
  },
  {
   "cell_type": "code",
   "execution_count": 26,
   "id": "c29d1482",
   "metadata": {},
   "outputs": [
    {
     "data": {
      "text/plain": [
       "array([[ 1,  5, 24],\n",
       "       [ 1,  5,  9],\n",
       "       [ 0,  1,  9]])"
      ]
     },
     "execution_count": 26,
     "metadata": {},
     "output_type": "execute_result"
    }
   ],
   "source": [
    "arr2d.sort() # сортировка двумерного массива (по умолчанию сортировка вдоль оси 1 (сортируются элементы каждой строки)\n",
    "arr2d"
   ]
  },
  {
   "cell_type": "code",
   "execution_count": 27,
   "id": "f9975667",
   "metadata": {},
   "outputs": [
    {
     "data": {
      "text/plain": [
       "array([[ 0,  1,  9],\n",
       "       [ 1,  5,  9],\n",
       "       [ 1,  5, 24]])"
      ]
     },
     "execution_count": 27,
     "metadata": {},
     "output_type": "execute_result"
    }
   ],
   "source": [
    "arr2d.sort(axis=0) # сортировка вдоль оси 0 (сортируются элементы каждого столбца)\n",
    "arr2d"
   ]
  },
  {
   "cell_type": "code",
   "execution_count": 28,
   "id": "58ad456c",
   "metadata": {},
   "outputs": [
    {
     "data": {
      "text/plain": [
       "55"
      ]
     },
     "execution_count": 28,
     "metadata": {},
     "output_type": "execute_result"
    }
   ],
   "source": [
    "np.sum(arr2d) # сумма всех элементов матрицы"
   ]
  },
  {
   "cell_type": "code",
   "execution_count": 29,
   "id": "abdb26b9",
   "metadata": {},
   "outputs": [
    {
     "data": {
      "text/plain": [
       "array([ 2, 11, 42])"
      ]
     },
     "execution_count": 29,
     "metadata": {},
     "output_type": "execute_result"
    }
   ],
   "source": [
    "np.sum(arr2d, axis=0) # суммирование вдоль 0 оси (сумма каждого столбца)"
   ]
  },
  {
   "cell_type": "code",
   "execution_count": 30,
   "id": "a91fb452",
   "metadata": {},
   "outputs": [
    {
     "data": {
      "text/plain": [
       "array([[ 0,  1,  9],\n",
       "       [ 1,  5,  9],\n",
       "       [ 1,  5, 24]])"
      ]
     },
     "execution_count": 30,
     "metadata": {},
     "output_type": "execute_result"
    }
   ],
   "source": [
    "arr2d"
   ]
  },
  {
   "cell_type": "markdown",
   "id": "fdffd02c",
   "metadata": {},
   "source": [
    "## Некоторые функции библиотеки NumPy"
   ]
  },
  {
   "cell_type": "code",
   "execution_count": 31,
   "id": "f8869d2e",
   "metadata": {},
   "outputs": [
    {
     "data": {
      "text/plain": [
       "array([ 0,  1,  5,  9, 24])"
      ]
     },
     "execution_count": 31,
     "metadata": {},
     "output_type": "execute_result"
    }
   ],
   "source": [
    "np.unique(arr2d) # отбор уникальных значений из массива (аналога типа данных set(), но работает быстрее)"
   ]
  },
  {
   "cell_type": "code",
   "execution_count": 32,
   "id": "d177164b",
   "metadata": {},
   "outputs": [
    {
     "name": "stdout",
     "output_type": "stream",
     "text": [
      "[-12.25148799  -4.66881776  -3.90716038   4.00857238   5.64534484]\n"
     ]
    }
   ],
   "source": [
    "r, d = np.modf(a3*10) # функция modf возвращет кортеж из двух массивов: массив дробных частей и массив целых частей\n",
    "#!!! Важно! Для отрицательных чисел знак минуса будут иметь обе части: и дробная, и целая.\n",
    "print(a3*10)"
   ]
  },
  {
   "cell_type": "code",
   "execution_count": 33,
   "id": "b9e9fd99",
   "metadata": {},
   "outputs": [
    {
     "name": "stdout",
     "output_type": "stream",
     "text": [
      "[-0.25148799 -0.66881776 -0.90716038  0.00857238  0.64534484]\n",
      "[-12.  -4.  -3.   4.   5.]\n"
     ]
    }
   ],
   "source": [
    "print(r)\n",
    "print(d)\n"
   ]
  },
  {
   "cell_type": "code",
   "execution_count": 34,
   "id": "6710f152",
   "metadata": {},
   "outputs": [
    {
     "data": {
      "text/plain": [
       "array([-1., -1., -1.,  1.,  1.])"
      ]
     },
     "execution_count": 34,
     "metadata": {},
     "output_type": "execute_result"
    }
   ],
   "source": [
    "np.sign(a3*10) # функция получения знаков каждого из элементов массива"
   ]
  },
  {
   "cell_type": "code",
   "execution_count": null,
   "id": "d9a70dc0",
   "metadata": {},
   "outputs": [],
   "source": []
  },
  {
   "cell_type": "code",
   "execution_count": null,
   "id": "3934c655",
   "metadata": {},
   "outputs": [],
   "source": []
  }
 ],
 "metadata": {
  "kernelspec": {
   "display_name": "Python 3",
   "language": "python",
   "name": "python3"
  },
  "language_info": {
   "codemirror_mode": {
    "name": "ipython",
    "version": 3
   },
   "file_extension": ".py",
   "mimetype": "text/x-python",
   "name": "python",
   "nbconvert_exporter": "python",
   "pygments_lexer": "ipython3",
   "version": "3.11.1"
  },
  "vscode": {
   "interpreter": {
    "hash": "9ff9b9dbd94e86b41bafd632486b0534561a2d23249e7aebc1956c7a3999e5ce"
   }
  }
 },
 "nbformat": 4,
 "nbformat_minor": 5
}

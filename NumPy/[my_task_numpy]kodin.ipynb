{
 "cells": [
  {
   "attachments": {},
   "cell_type": "markdown",
   "metadata": {},
   "source": [
    "### Дополнительные задания по numpy\n",
    "\n",
    "ФИО:<ins>Кодин Денис Владимирович</ins>     группа: <ins>2</ins>"
   ]
  },
  {
   "cell_type": "code",
   "execution_count": 1,
   "metadata": {},
   "outputs": [],
   "source": [
    "import numpy as np"
   ]
  },
  {
   "attachments": {},
   "cell_type": "markdown",
   "metadata": {},
   "source": [
    "**Задание 1** \n",
    "\n",
    " - Задать матрицу весов W 4 * 4 рандомными вещественными числами;\n",
    " - Умножить её на случайный вектор X длиной 4;\n",
    " - Выполнить функцию для каждого элемента полученного массива: - 1 / (1+exp(-x*w)) (функцию активации);\n",
    " - Применить функуию softmax для результата; \n",
    " - Проверить, что полученный массив дает распределение вероятности по 4м классам (если просуммировать все элементы, то результат будет равен 1 );"
   ]
  },
  {
   "cell_type": "code",
   "execution_count": 148,
   "metadata": {},
   "outputs": [
    {
     "name": "stdout",
     "output_type": "stream",
     "text": [
      "Weights:\n",
      "[[0.24905511 0.21411356 0.5925426  0.80008823]\n",
      " [0.02074634 0.16162473 0.13544294 0.39267014]\n",
      " [0.87376992 0.38110287 0.74108591 0.46346208]\n",
      " [0.04963658 0.21295431 0.07514854 0.9318072 ]]\n",
      "X:\n",
      "[0.4237923  0.5309399  0.08029611 0.08871576]\n",
      "\n",
      "logit:\n",
      "[0.19112657 0.22604618 0.38920023 0.66743566]\n",
      "\n",
      "sigmoid:\n",
      "[0.54763672 0.55627214 0.59609016 0.66092872]\n",
      "\n",
      "\n",
      "result(распределение вероятностей):\n",
      "[0.23933303 0.24140872 0.25121508 0.26804316]\n",
      "------------------------------------------------------------\n",
      "Проверка суммированием - \n",
      "np.sum(result): 1.0\n"
     ]
    }
   ],
   "source": [
    "# Задать матрицу весов W 4 * 4 рандомнымии вещественными числами;\n",
    "w = np.random.random([4,4])\n",
    "print('Weights:')\n",
    "print(w)\n",
    "x = np.random.random(4)\n",
    "print('X:')\n",
    "print(x)\n",
    "\n",
    "print()\n",
    "\n",
    "# Умножить её на случайный массив X длиной 4;\n",
    "logit = x @ w\n",
    "print('logit:')\n",
    "print(logit)\n",
    "\n",
    "print()\n",
    "\n",
    "# Выполнить функцию для каждого элемента полученного массива: - 1 / (1+exp(-x*w)) (функцию активации);\n",
    "sigmoid = (1. / (1. + np.exp(-logit)))\n",
    "print('sigmoid:')\n",
    "print(sigmoid)\n",
    "\n",
    "print()\n",
    "\n",
    "# Применить функуию softmax для результата;\n",
    "result = np.exp(sigmoid) / np.sum(np.exp(sigmoid))\n",
    "\n",
    "print()\n",
    "\n",
    "print('result(распределение вероятностей):')\n",
    "print(result)\n",
    "print('---'*20)\n",
    "print('Проверка суммированием - ')\n",
    "print('np.sum(result):',np.sum(result))\n"
   ]
  },
  {
   "attachments": {},
   "cell_type": "markdown",
   "metadata": {},
   "source": [
    "**Задание 2** \n",
    "\n",
    "Сравнить скорость выполнения матричного умножения в numpy со скоростью примитивного алгоритма перемножения матриц"
   ]
  },
  {
   "cell_type": "code",
   "execution_count": 149,
   "metadata": {},
   "outputs": [],
   "source": [
    "def matrixmult (A, B):\n",
    "    rows_A = len(A)\n",
    "    cols_A = len(A[0])\n",
    "    rows_B = len(B)\n",
    "    cols_B = len(B[0])\n",
    "\n",
    "    if cols_A != rows_B:\n",
    "      print(\"Операцию выполнить невозможно.\")\n",
    "      return\n",
    "    \n",
    "    C = [[0 for row in range(cols_B)] for col in range(rows_A)]\n",
    "\n",
    "    for i in range(rows_A):\n",
    "        for j in range(cols_B):\n",
    "            for k in range(cols_A):\n",
    "                C[i][j] += A[i][k] * B[k][j]\n",
    "    return C\n",
    "\n"
   ]
  },
  {
   "cell_type": "code",
   "execution_count": 150,
   "metadata": {},
   "outputs": [],
   "source": [
    "import time\n",
    "import random\n",
    "a = np.random.random([100,100])\n",
    "b = np.random.random([100,100])"
   ]
  },
  {
   "cell_type": "code",
   "execution_count": 151,
   "metadata": {},
   "outputs": [
    {
     "name": "stdout",
     "output_type": "stream",
     "text": [
      "--- 0.2756662368774414 seconds три цикла ---\n"
     ]
    }
   ],
   "source": [
    "\n",
    "start_time = time.time()\n",
    "matrixmult(a,b)\n",
    "print(\"--- %s seconds три цикла ---\" % (time.time() - start_time))"
   ]
  },
  {
   "cell_type": "code",
   "execution_count": 152,
   "metadata": {},
   "outputs": [
    {
     "name": "stdout",
     "output_type": "stream",
     "text": [
      "--- 0.015806913375854492 seconds операция numpy ---\n"
     ]
    }
   ],
   "source": [
    "start_time = time.time()\n",
    "a@b\n",
    "print(\"--- %s seconds операция numpy ---\" % (time.time() - start_time))\n"
   ]
  },
  {
   "cell_type": "code",
   "execution_count": null,
   "metadata": {},
   "outputs": [],
   "source": []
  }
 ],
 "metadata": {
  "kernelspec": {
   "display_name": "Python 3",
   "language": "python",
   "name": "python3"
  },
  "language_info": {
   "codemirror_mode": {
    "name": "ipython",
    "version": 3
   },
   "file_extension": ".py",
   "mimetype": "text/x-python",
   "name": "python",
   "nbconvert_exporter": "python",
   "pygments_lexer": "ipython3",
   "version": "3.11.1"
  },
  "orig_nbformat": 4,
  "vscode": {
   "interpreter": {
    "hash": "9ff9b9dbd94e86b41bafd632486b0534561a2d23249e7aebc1956c7a3999e5ce"
   }
  }
 },
 "nbformat": 4,
 "nbformat_minor": 2
}

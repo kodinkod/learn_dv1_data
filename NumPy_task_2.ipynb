{
 "cells": [
  {
   "attachments": {},
   "cell_type": "markdown",
   "id": "31c33bbf",
   "metadata": {},
   "source": [
    "ФИО:<ins>Кодин Денис Владимирович</ins>     группа: <ins>2</ins>"
   ]
  },
  {
   "cell_type": "markdown",
   "id": "ddfed3fb",
   "metadata": {},
   "source": [
    "## Работа с массивами и множествами в библиотеке NumPy"
   ]
  },
  {
   "cell_type": "code",
   "execution_count": 199,
   "id": "fdb01964",
   "metadata": {},
   "outputs": [],
   "source": [
    "import numpy as np"
   ]
  },
  {
   "cell_type": "markdown",
   "id": "fbd32fb4",
   "metadata": {},
   "source": [
    " <b>Задание 1.</b> Задать массив $x$ длины 20, состоящий из $1$, $2$, $3$, расположенных в случайном порядке. \n",
    " \n",
    " Найти индекс предпоследнего вхождения цифры $1$, первого вхождения цифры $2$ и <<среднего>> вхождения цифры $3$. Под <<средним>> вхождением понимается $N//2$-вхождение цифры $3$, где $N$ $-$ общее число вхождений. "
   ]
  },
  {
   "cell_type": "code",
   "execution_count": 200,
   "id": "1e0ca0ef",
   "metadata": {},
   "outputs": [
    {
     "name": "stdout",
     "output_type": "stream",
     "text": [
      "x: [2 3 3 1 3 3 3 2 1 3 1 3 3 1 2 3 1 2 3 3]\n",
      "Индекс предпоследнего вхождения цифры \"1\":  13\n",
      "\n",
      "Индекс первого вхождения цифры \"2\":  0\n",
      "\n",
      "Вхождения цифры \"3\":  [ 1  2  4  5  6  9 11 12 15 18 19]\n",
      "Индекс среднего вхождения цифры \"3\":  9\n"
     ]
    }
   ],
   "source": [
    "x = np.random.choice([1,2,3],20)\n",
    "print('x:',x)\n",
    "\n",
    "first_finde_1 = np.where(x==1)[0][-2]\n",
    "print('Индекс предпоследнего вхождения цифры \"1\": ', first_finde_1)\n",
    "\n",
    "print()\n",
    "\n",
    "first_finde_2 = np.where(x==2)[0][0]\n",
    "print('Индекс первого вхождения цифры \"2\": ', first_finde_2)\n",
    "\n",
    "print()\n",
    "\n",
    "first_finde_3 = np.where(x==3)[0]\n",
    "print('Вхождения цифры \"3\": ',first_finde_3)\n",
    "n = len(first_finde_3) - 1\n",
    "first_finde_3 = first_finde_3[(n//2) + n % 2 ]\n",
    "print('Индекс среднего вхождения цифры \"3\": ', first_finde_3)\n"
   ]
  },
  {
   "cell_type": "markdown",
   "id": "c481a99c",
   "metadata": {},
   "source": [
    " <b>Задание 2.</b> Получить новый массив $y$, сделав следующие преобразования:\n",
    " 1. заменить единицы, стоящие на чётных местах на $100$, а на нечётных $-$ на $-10$\n",
    " 2. заменить двойки на $-20$\n",
    " 3. заменить тройки на число вхождений $3$ в массив."
   ]
  },
  {
   "cell_type": "code",
   "execution_count": 201,
   "id": "b2524c97",
   "metadata": {},
   "outputs": [
    {
     "name": "stdout",
     "output_type": "stream",
     "text": [
      "input y: [2 3 1 1 2 2 3 3 1 3 1 3 3 1 3 2 2 1 2 3]\n",
      "output: [-20   8 100 -10 -20 -20   8   8 100   8 100   8   8 -10   8 -20 -20 -10\n",
      " -20   8]\n"
     ]
    }
   ],
   "source": [
    "x = np.random.choice([1,2,3],20)\n",
    "y = np.copy(x)\n",
    "print('input y:',y)\n",
    "\n",
    "indexes = np.array([0 if i%2==0 else 1 for i in range(20)])\n",
    "\n",
    "index_ch_1 = np.array([i for i in range(len(x)) if i%2==0 and x[i]==1 ])\n",
    "index_nch_1 = np.array([i for i in range(len(x)) if i%2!=0 and x[i]==1 ])\n",
    "index_2 = np.array([i for i in range(len(x)) if x[i]==2])\n",
    "index_3 = np.array([i for i in range(len(x)) if x[i]==3])\n",
    "\n",
    "y[index_ch_1] = 100\n",
    "y[index_nch_1] = -10\n",
    "y[index_2] = -20\n",
    "y[index_3] = len(np.where(x==3)[0])\n",
    "\n",
    "print('output:', y)"
   ]
  },
  {
   "cell_type": "markdown",
   "id": "8a5b0997",
   "metadata": {},
   "source": [
    "<b>Задание 3 .</b> Задать двумерный массив $C_{N\\times M}$, состоящий из случайных символов. Числа $N$ и $M$ получить случайным образом. $N \\in [2, 5]$, $M \\in [2, 10]$. Для получения случайных символов использовать функцию choice(). Получить новый двумерный массив $D_{N\\times k}$, каждая строка которого содержит только те элементы, которые не встречаются ни в одной другой строке ($k$ $-$ количество уникальных символов в строке, может быть разным для каждой строки, в том числе равным 0)"
   ]
  },
  {
   "cell_type": "markdown",
   "id": "4625d676",
   "metadata": {},
   "source": [
    "__Пример__. Для массива\n",
    "\n",
    "\n",
    "C = [\n",
    "\n",
    "    ['A', 'B', 'F', 'K'],\n",
    "    \n",
    "    ['B', 'D', 'F'], \n",
    "    \n",
    "    ['L', 'E', 'A', 'D']]\n",
    "    \n",
    "    \n",
    "ответом будет являться массив $D$:\n",
    "\n",
    "D = [\n",
    "\n",
    "    ['K'],\n",
    "    \n",
    "    [], \n",
    "    \n",
    "    ['E', 'L']]"
   ]
  },
  {
   "cell_type": "code",
   "execution_count": 202,
   "id": "34164840",
   "metadata": {},
   "outputs": [],
   "source": [
    "import string\n",
    "from functools import reduce\n",
    "\n",
    "s = np.array(list(string.ascii_uppercase)) # массив всех латинских заглавных букв"
   ]
  },
  {
   "cell_type": "code",
   "execution_count": 203,
   "id": "b54e1955",
   "metadata": {},
   "outputs": [
    {
     "name": "stdout",
     "output_type": "stream",
     "text": [
      "N = 3, M = 7\n",
      "[['F' 'Y' 'V' 'D' 'M' 'A' 'T']\n",
      " ['W' 'G' 'Q' 'D' 'M' 'Y' 'A']\n",
      " ['Z' 'G' 'S' 'H' 'U' 'K' 'U']]\n"
     ]
    },
    {
     "data": {
      "text/plain": [
       "array(['F', 'H', 'K', 'Q', 'S', 'T', 'U', 'V', 'W', 'Z'], dtype='<U1')"
      ]
     },
     "execution_count": 203,
     "metadata": {},
     "output_type": "execute_result"
    }
   ],
   "source": [
    "N = np.random.randint(2,5)\n",
    "M = np.random.randint(2,10)\n",
    "print(\"N = {}, M = {}\".format(N, M))\n",
    "\n",
    "mas = np.random.choice(s,[N,M])\n",
    "print(mas)\n",
    "reduce(np.setxor1d, mas)"
   ]
  },
  {
   "cell_type": "code",
   "execution_count": 204,
   "id": "57feca6b",
   "metadata": {},
   "outputs": [
    {
     "name": "stdout",
     "output_type": "stream",
     "text": [
      "bad:  ['A', 'D', 'G', 'M', 'U', 'Y']\n",
      "good:  ['B' 'C' 'E' 'F' 'H' 'I' 'J' 'K' 'L' 'N' 'O' 'P' 'Q' 'R' 'S' 'T' 'V' 'W'\n",
      " 'X' 'Z']\n"
     ]
    }
   ],
   "source": [
    "hel = np.unique(mas,return_counts = True)\n",
    "bad_alpha = [hel[0][i] for i in range(len(hel[1])) if hel[1][i]>1]\n",
    "good_alpha = np.setdiff1d(s, bad_alpha ) # эти нужно оставить \n",
    "print('bad: ', bad_alpha )\n",
    "print('good: ', good_alpha)"
   ]
  },
  {
   "cell_type": "code",
   "execution_count": 205,
   "id": "3264f18e",
   "metadata": {},
   "outputs": [
    {
     "name": "stdout",
     "output_type": "stream",
     "text": [
      "['F' 'T' 'V']\n",
      "['Q' 'W']\n",
      "['H' 'K' 'S' 'Z']\n"
     ]
    }
   ],
   "source": [
    "res = []\n",
    "for i in range(N):\n",
    "    pre = np.unique(np.intersect1d(mas[i], good_alpha))\n",
    "    print(pre)\n",
    "    res.append(list(pre))"
   ]
  },
  {
   "cell_type": "code",
   "execution_count": null,
   "id": "dfc24d9b",
   "metadata": {},
   "outputs": [],
   "source": []
  }
 ],
 "metadata": {
  "kernelspec": {
   "display_name": "Python 3",
   "language": "python",
   "name": "python3"
  },
  "language_info": {
   "codemirror_mode": {
    "name": "ipython",
    "version": 3
   },
   "file_extension": ".py",
   "mimetype": "text/x-python",
   "name": "python",
   "nbconvert_exporter": "python",
   "pygments_lexer": "ipython3",
   "version": "3.8.13"
  }
 },
 "nbformat": 4,
 "nbformat_minor": 5
}
